{
  "nbformat": 4,
  "nbformat_minor": 0,
  "metadata": {
    "colab": {
      "provenance": [],
      "toc_visible": true,
      "authorship_tag": "ABX9TyPgoBEHIGUy2bwGQ1/Vjjuf",
      "include_colab_link": true
    },
    "kernelspec": {
      "name": "python3",
      "display_name": "Python 3"
    },
    "language_info": {
      "name": "python"
    }
  },
  "cells": [
    {
      "cell_type": "markdown",
      "metadata": {
        "id": "view-in-github",
        "colab_type": "text"
      },
      "source": [
        "<a href=\"https://colab.research.google.com/github/ridwaanhall/TOPSIS-Top-Ranked-Employee/blob/main/TOPSIS_Top_Ranked_Employee.ipynb\" target=\"_parent\"><img src=\"https://colab.research.google.com/assets/colab-badge.svg\" alt=\"Open In Colab\"/></a>"
      ]
    },
    {
      "cell_type": "markdown",
      "source": [
        "### created by ridwaanhall\n",
        "menentukan karyawan terbaik menggunakan metode topsis."
      ],
      "metadata": {
        "id": "sAF7IZBbMuvU"
      }
    },
    {
      "cell_type": "markdown",
      "source": [
        "## Import libraries"
      ],
      "metadata": {
        "id": "eBOpO4o-4fXV"
      }
    },
    {
      "cell_type": "code",
      "source": [
        "import numpy as np\n",
        "from tabulate import tabulate"
      ],
      "metadata": {
        "id": "fu1K0H5knQqf"
      },
      "execution_count": 1,
      "outputs": []
    },
    {
      "cell_type": "markdown",
      "source": [
        "## Input Rows and Cols"
      ],
      "metadata": {
        "id": "cWj5c5rV5B4Q"
      }
    },
    {
      "cell_type": "code",
      "source": [
        "rows = int(input(\"Employee Count  : \"))  # Example: 10.\n",
        "cols = int(input(\"Criterion Count : \"))  # Example: 5."
      ],
      "metadata": {
        "colab": {
          "base_uri": "https://localhost:8080/"
        },
        "id": "-ieF2tWosMt_",
        "outputId": "86cdc247-dbd1-4634-9ac6-b123e0cc8204"
      },
      "execution_count": 2,
      "outputs": [
        {
          "name": "stdout",
          "output_type": "stream",
          "text": [
            "Employee Count  : 10\n",
            "Criterion Count : 5\n"
          ]
        }
      ]
    },
    {
      "cell_type": "markdown",
      "source": [
        "## Random"
      ],
      "metadata": {
        "id": "_0yZH_Ct4uq1"
      }
    },
    {
      "cell_type": "markdown",
      "source": [
        "### Random Weights (0 to 1)"
      ],
      "metadata": {
        "id": "_QpDuCo75GRt"
      }
    },
    {
      "cell_type": "code",
      "source": [
        "random_weights = np.random.rand(cols)\n",
        "normalized_weights = random_weights / np.sum(random_weights)\n",
        "weights = np.round(normalized_weights, 9)\n",
        "print(\"Weights:\", weights)\n",
        "print(\"Total weights:\", np.round(np.sum(weights), 2))"
      ],
      "metadata": {
        "colab": {
          "base_uri": "https://localhost:8080/"
        },
        "id": "QWZB6y45saOu",
        "outputId": "d08d87ad-7650-4bec-dfa1-b73f4d742d36"
      },
      "execution_count": 3,
      "outputs": [
        {
          "output_type": "stream",
          "name": "stdout",
          "text": [
            "Weights: [0.02425691 0.33518449 0.3486661  0.02162994 0.27026255]\n",
            "Total weights: 1.0\n"
          ]
        }
      ]
    },
    {
      "cell_type": "markdown",
      "source": [
        "### Random Alternatives\n",
        "based on rows"
      ],
      "metadata": {
        "id": "LvOecHiV5RAK"
      }
    },
    {
      "cell_type": "code",
      "source": [
        "alternatives = [f\"Employee {i+1}\" for i in range(rows)]\n",
        "print(\"Alternatives:\", alternatives)"
      ],
      "metadata": {
        "colab": {
          "base_uri": "https://localhost:8080/"
        },
        "id": "ZYn-4E6rtDMB",
        "outputId": "01c889fa-c3b7-4d1a-9ead-aa4593dc2282"
      },
      "execution_count": 4,
      "outputs": [
        {
          "output_type": "stream",
          "name": "stdout",
          "text": [
            "Alternatives: ['Employee 1', 'Employee 2', 'Employee 3', 'Employee 4', 'Employee 5', 'Employee 6', 'Employee 7', 'Employee 8', 'Employee 9', 'Employee 10']\n"
          ]
        }
      ]
    },
    {
      "cell_type": "markdown",
      "source": [
        "### Random Matrix\n",
        "this matrix after fuzzification. from A to 1, from 90 to 0.9, etc."
      ],
      "metadata": {
        "id": "16o83sKs7mS1"
      }
    },
    {
      "cell_type": "code",
      "source": [
        "matrix = np.random.rand(rows, cols)\n",
        "scaled_matrix = 0.5 + 0.5 * matrix\n",
        "matrix = np.round(scaled_matrix, 10)\n",
        "print(\"Matrix:\")\n",
        "print(matrix)"
      ],
      "metadata": {
        "colab": {
          "base_uri": "https://localhost:8080/"
        },
        "id": "xSN4zGCTtWG1",
        "outputId": "89d5dff7-d5bd-4472-ac0e-7e8e59a4306a"
      },
      "execution_count": 5,
      "outputs": [
        {
          "output_type": "stream",
          "name": "stdout",
          "text": [
            "Matrix:\n",
            "[[0.58093118 0.78804027 0.93735959 0.68790217 0.50972879]\n",
            " [0.96482187 0.79254673 0.57712766 0.98483751 0.71555147]\n",
            " [0.59826731 0.8087033  0.84349948 0.52823212 0.6502594 ]\n",
            " [0.74244427 0.70037885 0.89236209 0.55813118 0.88601567]\n",
            " [0.62064528 0.96760837 0.52395389 0.73808527 0.69683574]\n",
            " [0.7969034  0.79507857 0.8126029  0.90487483 0.67630721]\n",
            " [0.52071708 0.85483207 0.77903939 0.88774869 0.930064  ]\n",
            " [0.81267973 0.83476962 0.86565762 0.83119776 0.74025689]\n",
            " [0.57514336 0.54223742 0.64324724 0.61780963 0.50345129]\n",
            " [0.50576766 0.77703195 0.80050761 0.70633371 0.61424115]]\n"
          ]
        }
      ]
    },
    {
      "cell_type": "markdown",
      "source": [
        "## Class"
      ],
      "metadata": {
        "id": "-nE-Rlz_BUap"
      }
    },
    {
      "cell_type": "markdown",
      "source": [
        "### TOPSIS"
      ],
      "metadata": {
        "id": "vCu6l7OWBbyN"
      }
    },
    {
      "cell_type": "code",
      "source": [
        "class TOPSIS:\n",
        "    def __init__(self, matrix, weights, alternatives):\n",
        "        self.matrix = matrix\n",
        "        self.weights = weights\n",
        "        self.alternatives = alternatives\n",
        "        self.norm_matrix = None\n",
        "        self.weighted_norm_matrix = None\n",
        "        self.positive_ideal = None\n",
        "        self.negative_ideal = None\n",
        "        self.positive_distances = None\n",
        "        self.negative_distances = None\n",
        "        self.relative_closeness = None\n",
        "\n",
        "    # Data Tables: Create tabulate alternatives, matrix, and weights\n",
        "    def create_tabulate_alternatives(self):\n",
        "        print(\"Alternatives:\")\n",
        "        print(tabulate(np.column_stack((self.alternatives, self.matrix)), headers=['Alternative'] + [f'Criterion {i+1}' for i in range(self.matrix.shape[1])], floatfmt=\".9f\"))\n",
        "\n",
        "    # Step 1: Normalize the decision matrix\n",
        "    def normalize_matrix(self):\n",
        "        self.norm_matrix = np.copy(self.matrix)\n",
        "        for col in range(self.matrix.shape[1]):\n",
        "            norm = np.sqrt(np.sum(self.matrix[:, col] ** 2))\n",
        "            self.norm_matrix[:, col] = self.matrix[:, col] / norm\n",
        "        print(\"\\nNormalized Decision Matrix:\")\n",
        "        print(tabulate(np.column_stack((self.alternatives, self.norm_matrix)), headers=['Alternative'] + [f'Criterion {i+1}' for i in range(self.norm_matrix.shape[1])], floatfmt=\".9f\"))\n",
        "\n",
        "    # Step 2: Apply weights to the normalized matrix\n",
        "    def weighted_normalized_matrix(self):\n",
        "        self.weighted_norm_matrix = self.norm_matrix * self.weights\n",
        "        print(\"\\nWeighted Normalized Matrix:\")\n",
        "        print(tabulate(np.column_stack((self.alternatives, self.weighted_norm_matrix)), headers=['Alternative'] + [f'Criterion {i+1}' for i in range(self.weighted_norm_matrix.shape[1])], floatfmt=\".9f\"))\n",
        "\n",
        "    # Step 3: Calculate positive and negative ideal solutions\n",
        "    def calculate_ideal_solutions(self):\n",
        "        self.positive_ideal = np.max(self.weighted_norm_matrix, axis=0)\n",
        "        self.negative_ideal = np.min(self.weighted_norm_matrix, axis=0)\n",
        "        print(\"\\nPositive and Negative Ideal Solutions:\")\n",
        "        print(f\"Positive Ideal Solution: {', '.join(f'{value:.9f}' for value in self.positive_ideal)}\")\n",
        "        print(f\"Negative Ideal Solution: {', '.join(f'{value:.9f}' for value in self.negative_ideal)}\")\n",
        "\n",
        "    # Step 4: Calculate distances from positive and negative ideal solutions\n",
        "    def calculate_distances(self):\n",
        "        self.positive_distances = np.sqrt(np.sum((self.weighted_norm_matrix - self.positive_ideal) ** 2, axis=1))\n",
        "        self.negative_distances = np.sqrt(np.sum((self.weighted_norm_matrix - self.negative_ideal) ** 2, axis=1))\n",
        "        print(\"\\nDistances from Positive and Negative Ideal Solutions:\")\n",
        "        print(tabulate(np.column_stack((self.alternatives, self.positive_distances, self.negative_distances)), headers=['Alternative', 'Positive Distance', 'Negative Distance'], floatfmt=\".9f\"))\n",
        "\n",
        "    # Step 5: Calculate relative closeness to the ideal solution\n",
        "    def calculate_relative_closeness(self):\n",
        "        self.relative_closeness = self.negative_distances / (self.positive_distances + self.negative_distances)\n",
        "        print(\"\\nRelative Closeness to Ideal Solution:\")\n",
        "        print(tabulate(np.column_stack((self.alternatives, self.relative_closeness)), headers=['Alternative', 'Relative Closeness'], floatfmt=\".9f\"))\n",
        "\n",
        "    # Step 6: Rank the alternatives\n",
        "    def rank_alternatives(self):\n",
        "        sorted_indices = np.argsort(-self.relative_closeness)\n",
        "        sorted_alternatives = [self.alternatives[i] for i in sorted_indices]\n",
        "        sorted_relative_closeness = [self.relative_closeness[i] for i in sorted_indices]\n",
        "        ranking = np.arange(1, len(sorted_alternatives) + 1)\n",
        "        results = list(zip(ranking, sorted_alternatives, sorted_relative_closeness))\n",
        "        print(\"\\nRanking of Alternatives:\\n\")\n",
        "        print(tabulate(results, headers=['Rank', 'Alternative', 'Relative Closeness'], floatfmt=(\".0f\", \"\", \".9f\")))\n",
        "\n",
        "    # Step 7: Top-rangked Employee\n",
        "    def top_ranked_employee(self):\n",
        "        sorted_indices = np.argsort(-self.relative_closeness)\n",
        "        sorted_alternatives = [self.alternatives[i] for i in sorted_indices]\n",
        "        sorted_relative_closeness = [self.relative_closeness[i] for i in sorted_indices]\n",
        "        ranking = np.arange(1, len(sorted_alternatives) + 1)\n",
        "        results = list(zip(ranking, sorted_alternatives, sorted_relative_closeness))\n",
        "        top_employee = results[0][1]\n",
        "        top_relative_closeness = results[0][2]\n",
        "        print(f\"\\nTop-ranked Employee: {top_employee} with Relative Closeness: {top_relative_closeness:.9f}\")\n",
        "\n",
        "topsis = TOPSIS(matrix, weights, alternatives)"
      ],
      "metadata": {
        "id": "Ou6QCT3wDBRO"
      },
      "execution_count": 6,
      "outputs": []
    },
    {
      "cell_type": "markdown",
      "source": [
        "## Data Tables"
      ],
      "metadata": {
        "id": "z6Hg3fxIxO-e"
      }
    },
    {
      "cell_type": "code",
      "source": [
        "topsis.create_tabulate_alternatives()"
      ],
      "metadata": {
        "colab": {
          "base_uri": "https://localhost:8080/"
        },
        "id": "-T-U9mLcxV3F",
        "outputId": "84a8ffb6-0364-48f5-81da-eb6c9eb9f1b5"
      },
      "execution_count": 7,
      "outputs": [
        {
          "output_type": "stream",
          "name": "stdout",
          "text": [
            "Alternatives:\n",
            "Alternative      Criterion 1    Criterion 2    Criterion 3    Criterion 4    Criterion 5\n",
            "-------------  -------------  -------------  -------------  -------------  -------------\n",
            "Employee 1       0.580931184    0.788040265    0.937359594    0.687902172    0.509728789\n",
            "Employee 2       0.964821870    0.792546734    0.577127656    0.984837514    0.715551474\n",
            "Employee 3       0.598267311    0.808703304    0.843499480    0.528232121    0.650259397\n",
            "Employee 4       0.742444268    0.700378850    0.892362093    0.558131177    0.886015669\n",
            "Employee 5       0.620645276    0.967608366    0.523953894    0.738085269    0.696835744\n",
            "Employee 6       0.796903399    0.795078571    0.812602903    0.904874835    0.676307210\n",
            "Employee 7       0.520717083    0.854832069    0.779039389    0.887748687    0.930064003\n",
            "Employee 8       0.812679731    0.834769621    0.865657620    0.831197757    0.740256887\n",
            "Employee 9       0.575143355    0.542237416    0.643247244    0.617809634    0.503451293\n",
            "Employee 10      0.505767662    0.777031952    0.800507611    0.706333713    0.614241146\n"
          ]
        }
      ]
    },
    {
      "cell_type": "markdown",
      "source": [
        "## Steps"
      ],
      "metadata": {
        "id": "PpJ9u-0S40WG"
      }
    },
    {
      "cell_type": "markdown",
      "source": [
        "### Step 1: Normalize the decision matrix\n",
        "\n",
        "Langkah pertama dalam metode TOPSIS adalah normalisasi matriks keputusan. Normalisasi dilakukan untuk menghindari bias yang mungkin timbul karena perbedaan skala antar kriteria.\n",
        "\n",
        "Langkah-langkah untuk normalisasi matriks keputusan adalah sebagai berikut:\n",
        "\n",
        "1. **Normalisasi Kolom**:\n",
        "   - Untuk setiap kriteria, bagi setiap elemen dalam kolom dengan jumlah kuadrat dari semua elemen dalam kolom tersebut.\n",
        "\n",
        "   $$ r_{ij} = \\frac{x_{ij}}{\\sqrt{\\sum_{i=1}^{m} x_{ij}^2}} $$\n",
        "\n",
        "   Di sini, $ r_{ij} $ adalah nilai ternormalisasi dari elemen pada baris ke-$ i $ dan kolom ke-$ j $, dan $ x_{ij} $ adalah nilai asli dari elemen tersebut.\n",
        "\n",
        "Setelah langkah ini selesai, matriks keputusan akan berada dalam bentuk ternormalisasi, yang siap untuk digunakan dalam langkah-langkah selanjutnya dari metode TOPSIS."
      ],
      "metadata": {
        "id": "_nGurL56zUtI"
      }
    },
    {
      "cell_type": "code",
      "source": [
        "topsis.normalize_matrix()"
      ],
      "metadata": {
        "colab": {
          "base_uri": "https://localhost:8080/"
        },
        "id": "eGlk2muRnqBa",
        "outputId": "2ea33992-5009-442d-9fc9-7bd48133c0b1"
      },
      "execution_count": 8,
      "outputs": [
        {
          "output_type": "stream",
          "name": "stdout",
          "text": [
            "\n",
            "Normalized Decision Matrix:\n",
            "Alternative      Criterion 1    Criterion 2    Criterion 3    Criterion 4    Criterion 5\n",
            "-------------  -------------  -------------  -------------  -------------  -------------\n",
            "Employee 1       0.267510029    0.314275605    0.380612511    0.286705414    0.228726898\n",
            "Employee 2       0.444285886    0.316072814    0.234341237    0.410462793    0.321084217\n",
            "Employee 3       0.275493053    0.322516159    0.342500847    0.220157771    0.291786177\n",
            "Employee 4       0.341884362    0.279315659    0.362341389    0.232619167    0.397575377\n",
            "Employee 5       0.285797768    0.385888536    0.212750164    0.307620837    0.312686043\n",
            "Employee 6       0.366961969    0.317082527    0.329955370    0.377135768    0.303474423\n",
            "Employee 7       0.239782345    0.340912612    0.316326989    0.369997893    0.417340866\n",
            "Employee 8       0.374226731    0.332911577    0.351498105    0.346428469    0.332170097\n",
            "Employee 9       0.264844821    0.216247823    0.261188930    0.257492088    0.225910043\n",
            "Employee 10      0.232898363    0.309885417    0.325044107    0.294387353    0.275623969\n"
          ]
        }
      ]
    },
    {
      "cell_type": "markdown",
      "source": [
        "### Step 2: Apply weights to the normalized matrix\n",
        "\n",
        "Untuk menerapkan bobot ke matriks ternormalisasi, setiap elemen ternormalisasi $ r_{ij} $ dikalikan dengan bobot yang sesuai $ w_j $ untuk kriteria tersebut. Rumus untuk langkah ini adalah:\n",
        "\n",
        "$$\n",
        "v_{ij} = r_{ij} \\times w_j\n",
        "$$\n",
        "\n",
        "di mana:\n",
        "- $ v_{ij} $ adalah nilai matriks ternormalisasi yang telah dibobotkan untuk elemen pada baris ke-$ i $ dan kolom ke-$ j $.\n",
        "- $ r_{ij} $ adalah nilai ternormalisasi dari elemen pada baris ke-$ i $ dan kolom ke-$ j $.\n",
        "- $ w_j $ adalah bobot dari kriteria ke-$ j $."
      ],
      "metadata": {
        "id": "VckxVZx87amO"
      }
    },
    {
      "cell_type": "code",
      "source": [
        "topsis.weighted_normalized_matrix()"
      ],
      "metadata": {
        "colab": {
          "base_uri": "https://localhost:8080/"
        },
        "id": "JGFQvZiynvqc",
        "outputId": "ab6740e5-a83a-461b-e1c5-bbb2a258af41"
      },
      "execution_count": 9,
      "outputs": [
        {
          "output_type": "stream",
          "name": "stdout",
          "text": [
            "\n",
            "Weighted Normalized Matrix:\n",
            "Alternative      Criterion 1    Criterion 2    Criterion 3    Criterion 4    Criterion 5\n",
            "-------------  -------------  -------------  -------------  -------------  -------------\n",
            "Employee 1       0.006488967    0.105340308    0.132706681    0.006201421    0.061816316\n",
            "Employee 2       0.010777004    0.105942705    0.081706846    0.008878286    0.086777040\n",
            "Employee 3       0.006682611    0.108102414    0.119418436    0.004762000    0.078858877\n",
            "Employee 4       0.008293059    0.093622277    0.126336160    0.005031539    0.107449737\n",
            "Employee 5       0.006932571    0.129343852    0.074178771    0.006653821    0.084507329\n",
            "Employee 6       0.008901364    0.106281145    0.115044253    0.008157425    0.082017773\n",
            "Employee 7       0.005816379    0.114268620    0.110292499    0.008003033    0.112791608\n",
            "Employee 8       0.009077585    0.111586797    0.122555474    0.007493228    0.089773139\n",
            "Employee 9       0.006424318    0.072482916    0.091067726    0.005569539    0.061055025\n",
            "Employee 10      0.005649395    0.103868786    0.113331862    0.006367581    0.074490838\n"
          ]
        }
      ]
    },
    {
      "cell_type": "markdown",
      "source": [
        "### Step 3: Calculate positive and negative ideal solutions\n",
        "\n",
        "Setelah matriks ternormalisasi dibobotkan, langkah selanjutnya adalah menghitung solusi ideal positif (A+) dan solusi ideal negatif (A-). Solusi ideal positif (A+) adalah vektor di mana setiap elemen adalah nilai maksimum dari setiap kolom, sedangkan solusi ideal negatif (A-) adalah vektor di mana setiap elemen adalah nilai minimum dari setiap kolom.\n",
        "\n",
        "Langkah-langkah untuk menghitung A+ dan A- adalah sebagai berikut:\n",
        "\n",
        "1. **A+ (Solusi Ideal Positif)**:\n",
        "   - Untuk setiap kriteria $ j $, cari nilai maksimum $ v_{ij} $ dari semua alternatif.\n",
        "   - Misalkan $ A+ $ adalah vektor yang berisi nilai maksimum untuk setiap kriteria.\n",
        "\n",
        "   $$ A+ = (A_{1}^{+}, A_{2}^{+}, ..., A_{n}^{+}) $$\n",
        "\n",
        "2. **A- (Solusi Ideal Negatif)**:\n",
        "   - Untuk setiap kriteria $ j $, cari nilai minimum $ v_{ij} $ dari semua alternatif.\n",
        "   - Misalkan $ A- $ adalah vektor yang berisi nilai minimum untuk setiap kriteria.\n",
        "\n",
        "   $$ A- = (A_{1}^{-}, A_{2}^{-}, ..., A_{n}^{-}) $$\n",
        "\n",
        "Dengan demikian, kita mendapatkan vektor solusi ideal positif $ A+ $ dan vektor solusi ideal negatif $ A- $ untuk digunakan dalam langkah selanjutnya dari metode TOPSIS."
      ],
      "metadata": {
        "id": "malFlokB7ql3"
      }
    },
    {
      "cell_type": "code",
      "source": [
        "topsis.calculate_ideal_solutions()"
      ],
      "metadata": {
        "colab": {
          "base_uri": "https://localhost:8080/"
        },
        "id": "ddOKecaRnyfV",
        "outputId": "c454736f-4a98-4a05-e66c-5014fbe2c90b"
      },
      "execution_count": 10,
      "outputs": [
        {
          "output_type": "stream",
          "name": "stdout",
          "text": [
            "\n",
            "Positive and Negative Ideal Solutions:\n",
            "Positive Ideal Solution: 0.010777004, 0.129343852, 0.132706681, 0.008878286, 0.112791608\n",
            "Negative Ideal Solution: 0.005649395, 0.072482916, 0.074178771, 0.004762000, 0.061055025\n"
          ]
        }
      ]
    },
    {
      "cell_type": "markdown",
      "source": [
        "### Step 4: Calculate distances from positive and negative ideal solutions\n",
        "\n",
        "Setelah kita memiliki solusi ideal positif (A+) dan solusi ideal negatif (A-), langkah berikutnya dalam metode TOPSIS adalah menghitung jarak antara setiap alternatif dengan kedua solusi ideal tersebut. Jarak ini menggambarkan seberapa dekat atau seberapa jauh sebuah alternatif dari kedua solusi ideal tersebut.\n",
        "\n",
        "Langkah-langkah untuk menghitung jarak antara setiap alternatif dengan solusi ideal positif (D+) dan solusi ideal negatif (D-) adalah sebagai berikut:\n",
        "\n",
        "1. **Jarak dari Solusi Ideal Positif (D+)**:\n",
        "   - Untuk setiap alternatif $ i $, hitung jarak Euclidean antara vektor alternatif dengan solusi ideal positif $ A+ $.\n",
        "   - Rumus jarak Euclidean antara vektor $ v_i $ dan $ A+ $ adalah sebagai berikut:\n",
        "\n",
        "     $$ D_{i}^{+} = \\sqrt{\\sum_{j=1}^{n} (v_{ij} - A_{j}^{+})^2} $$\n",
        "\n",
        "2. **Jarak dari Solusi Ideal Negatif (D-)**:\n",
        "   - Untuk setiap alternatif $ i $, hitung jarak Euclidean antara vektor alternatif dengan solusi ideal negatif $ A- $.\n",
        "   - Rumus jarak Euclidean antara vektor $ v_i $ dan $ A- $ adalah sebagai berikut:\n",
        "\n",
        "     $$ D_{i}^{-} = \\sqrt{\\sum_{j=1}^{n} (v_{ij} - A_{j}^{-})^2} $$\n",
        "\n",
        "Dengan demikian, kita mendapatkan dua set jarak $ D+ $ dan $ D- $ yang akan digunakan dalam langkah selanjutnya dari metode TOPSIS."
      ],
      "metadata": {
        "id": "ryw3CYHc7t3r"
      }
    },
    {
      "cell_type": "code",
      "source": [
        "topsis.calculate_distances()"
      ],
      "metadata": {
        "colab": {
          "base_uri": "https://localhost:8080/"
        },
        "id": "tet9rk-zn13T",
        "outputId": "32565bae-f7ed-4ce5-a846-a824eab50737"
      },
      "execution_count": 11,
      "outputs": [
        {
          "output_type": "stream",
          "name": "stdout",
          "text": [
            "\n",
            "Distances from Positive and Negative Ideal Solutions:\n",
            "Alternative      Positive Distance    Negative Distance\n",
            "-------------  -------------------  -------------------\n",
            "Employee 1             0.056570341          0.067145222\n",
            "Employee 2             0.061849451          0.043371507\n",
            "Employee 3             0.042578331          0.060277862\n",
            "Employee 4             0.036961027          0.072984907\n",
            "Employee 5             0.065155542          0.061549997\n",
            "Employee 6             0.042366454          0.057217558\n",
            "Employee 7             0.027477847          0.075745974\n",
            "Employee 8             0.030870963          0.068653923\n",
            "Employee 9             0.087598723          0.016925999\n",
            "Employee 10            0.050238508          0.051972457\n"
          ]
        }
      ]
    },
    {
      "cell_type": "markdown",
      "source": [
        "### Step 5: Calculate relative closeness to the ideal solution\n",
        "\n",
        "Setelah menghitung jarak dari setiap alternatif ke solusi ideal positif (D+) dan solusi ideal negatif (D-), langkah terakhir dalam metode TOPSIS adalah menghitung kedekatan relatif setiap alternatif dengan solusi ideal. Kedekatan relatif ini memberikan informasi tentang seberapa baik sebuah alternatif dibandingkan dengan alternatif lainnya.\n",
        "\n",
        "Langkah-langkah untuk menghitung kedekatan relatif ($ C_i $) untuk setiap alternatif ($ i $) adalah sebagai berikut:\n",
        "\n",
        "1. **Kedekatan Relatif**:\n",
        "   - Untuk setiap alternatif $ i $, hitung kedekatan relatif ($ C_i $) menggunakan rumus berikut:\n",
        "\n",
        "     $$ C_{i} = \\frac{D_{i}^{-}}{D_{i}^{+} + D_{i}^{-}} $$\n",
        "\n",
        "   Di sini, $ D_{i}^{+} $ adalah jarak dari alternatif $ i $ ke solusi ideal positif, dan $ D_{i}^{-} $ adalah jarak dari alternatif $ i $ ke solusi ideal negatif.\n",
        "\n",
        "Dengan demikian, kita mendapatkan nilai kedekatan relatif ($ C_i $) untuk setiap alternatif $ i $, yang menggambarkan seberapa baik alternatif tersebut dalam kaitannya dengan solusi ideal. Semakin besar nilai $ C_i $, semakin baik kedekatan relatif alternatif tersebut dengan solusi ideal."
      ],
      "metadata": {
        "id": "LxFJRCEh7wEr"
      }
    },
    {
      "cell_type": "code",
      "source": [
        "topsis.calculate_relative_closeness()"
      ],
      "metadata": {
        "colab": {
          "base_uri": "https://localhost:8080/"
        },
        "id": "zXcRJqe6n4uI",
        "outputId": "5207132c-9293-4b9a-e531-0b8cf62df44c"
      },
      "execution_count": 12,
      "outputs": [
        {
          "output_type": "stream",
          "name": "stdout",
          "text": [
            "\n",
            "Relative Closeness to Ideal Solution:\n",
            "Alternative      Relative Closeness\n",
            "-------------  --------------------\n",
            "Employee 1              0.542738688\n",
            "Employee 2              0.412194564\n",
            "Employee 3              0.586040183\n",
            "Employee 4              0.663825433\n",
            "Employee 5              0.485771949\n",
            "Employee 6              0.574565701\n",
            "Employee 7              0.733803239\n",
            "Employee 8              0.689816645\n",
            "Employee 9              0.161932973\n",
            "Employee 10             0.508482209\n"
          ]
        }
      ]
    },
    {
      "cell_type": "markdown",
      "source": [
        "### Step 6: Rank the alternatives"
      ],
      "metadata": {
        "id": "fDktbiTa-cpp"
      }
    },
    {
      "cell_type": "code",
      "source": [
        "topsis.rank_alternatives()"
      ],
      "metadata": {
        "colab": {
          "base_uri": "https://localhost:8080/"
        },
        "id": "EFbeo1Tgn7g7",
        "outputId": "2c097772-9810-4071-ccb2-0d670403fd98"
      },
      "execution_count": 13,
      "outputs": [
        {
          "output_type": "stream",
          "name": "stdout",
          "text": [
            "\n",
            "Ranking of Alternatives:\n",
            "\n",
            "  Rank  Alternative      Relative Closeness\n",
            "------  -------------  --------------------\n",
            "     1  Employee 7              0.733803239\n",
            "     2  Employee 8              0.689816645\n",
            "     3  Employee 4              0.663825433\n",
            "     4  Employee 3              0.586040183\n",
            "     5  Employee 6              0.574565701\n",
            "     6  Employee 1              0.542738688\n",
            "     7  Employee 10             0.508482209\n",
            "     8  Employee 5              0.485771949\n",
            "     9  Employee 2              0.412194564\n",
            "    10  Employee 9              0.161932973\n"
          ]
        }
      ]
    },
    {
      "cell_type": "markdown",
      "source": [
        "### Step 7. Top Ranked Employee"
      ],
      "metadata": {
        "id": "a_2rD6NKGqZb"
      }
    },
    {
      "cell_type": "code",
      "source": [
        "topsis.top_ranked_employee()"
      ],
      "metadata": {
        "colab": {
          "base_uri": "https://localhost:8080/"
        },
        "id": "By8o-2iCGtcO",
        "outputId": "1187dafb-5593-4c0a-a4ed-634e8559ce51"
      },
      "execution_count": 14,
      "outputs": [
        {
          "output_type": "stream",
          "name": "stdout",
          "text": [
            "\n",
            "Top-ranked Employee: Employee 7 with Relative Closeness: 0.733803239\n"
          ]
        }
      ]
    }
  ]
}